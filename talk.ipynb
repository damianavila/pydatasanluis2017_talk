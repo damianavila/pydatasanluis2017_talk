{
 "cells": [
  {
   "cell_type": "markdown",
   "metadata": {
    "slideshow": {
     "slide_type": "slide"
    }
   },
   "source": [
    "# El ecosistema de Jupyter y su interrelación con el ecosistema de Anaconda"
   ]
  },
  {
   "cell_type": "markdown",
   "metadata": {
    "slideshow": {
     "slide_type": "slide"
    }
   },
   "source": [
    "## Damián Avila"
   ]
  },
  {
   "cell_type": "markdown",
   "metadata": {
    "slideshow": {
     "slide_type": "fragment"
    }
   },
   "source": [
    "* **Desarrollador** de Software y **Lider** de equipo\n",
    "* Laburando actualmente en **Anaconda, Inc.**\n",
    "* Desarrollador *core* de **Jupyter**\n",
    "* Miembro del **Jupyter Steering Council**\n",
    "* Quant, Bioestadístico, y (en otra vida ;-) Bioquímico, entre otras cosas"
   ]
  },
  {
   "cell_type": "markdown",
   "metadata": {
    "slideshow": {
     "slide_type": "slide"
    }
   },
   "source": [
    "# El ecosistema de Jupyter"
   ]
  },
  {
   "cell_type": "markdown",
   "metadata": {},
   "source": [
    "![Jupyter](map.png)"
   ]
  },
  {
   "cell_type": "markdown",
   "metadata": {
    "slideshow": {
     "slide_type": "subslide"
    }
   },
   "source": [
    "### IPython"
   ]
  },
  {
   "cell_type": "markdown",
   "metadata": {},
   "source": [
    "* Un poderoso intérprete interactivo para Python\n",
    "* Un jupyter kernel para trabajar con código Python en el Jupyter Notebook y otros frontends interactivos"
   ]
  },
  {
   "cell_type": "markdown",
   "metadata": {
    "slideshow": {
     "slide_type": "subslide"
    }
   },
   "source": [
    "### IPython (Características)"
   ]
  },
  {
   "cell_type": "markdown",
   "metadata": {},
   "source": [
    "* Instropección de objetos\n",
    "* Historial de inputs\n",
    "* Guardado de los outputs automaticamente referenciados\n",
    "* Complesión (extensible) por tabs\n",
    "* Comandos magics\n",
    "* Configurable\n",
    "* Logging de sesiones\n",
    "* Acceso al sistema con (extensible) aliases\n",
    "* Facilidad para integración con otros programas y GUIs\n",
    "* Acceso integrado al debugger pdb y profiler\n",
    "* Multi-line editing gracias prompt_toolkit.\n",
    "* Highlighting de sintáxis (a medida que tipeás)\n",
    "* Integración con editor the linea de comando"
   ]
  },
  {
   "cell_type": "markdown",
   "metadata": {
    "slideshow": {
     "slide_type": "subslide"
    }
   },
   "source": [
    "### Jupyter Notebook"
   ]
  },
  {
   "cell_type": "markdown",
   "metadata": {
    "slideshow": {
     "slide_type": "subslide"
    }
   },
   "source": [
    "### nbconvert"
   ]
  },
  {
   "cell_type": "markdown",
   "metadata": {},
   "source": [
    "* Convierte el documento (archivo) .ipynb en otros formatos estáticos: HTML (incluyendo slides HTML basadas en Reveal.js), Latex, PDF, Markdown, ReST, entre otros. \n",
    "* Flexibilidad para compartir infomación en múltiples y diferentes formatos.\n",
    "* Permite la presentación, publicación, colaboración y compartición de contenido\n",
    "* Puede ser utilizado como una librería (import nbconvert) para adicionar funcionalidades de conversión de notebook en tu propia app\n",
    "  * http://www.damian.oquanta.info/ powered by [Nikola](https://getnikola.com/)"
   ]
  },
  {
   "cell_type": "markdown",
   "metadata": {
    "slideshow": {
     "slide_type": "subslide"
    }
   },
   "source": [
    "### nbviewer"
   ]
  },
  {
   "cell_type": "markdown",
   "metadata": {},
   "source": [
    "* Una manera simple de compartir tu Jupyter notebooks con el mundo\n",
    "* Es nbconvert con esteroides, pero centrado en la conversión HTML (incluyendo slides)\n",
    "* Sitio: http://nbviewer.jupyter.org/"
   ]
  },
  {
   "cell_type": "markdown",
   "metadata": {
    "slideshow": {
     "slide_type": "subslide"
    }
   },
   "source": [
    "### Jupyter Widgets"
   ]
  },
  {
   "cell_type": "markdown",
   "metadata": {},
   "source": [
    "* Son objetos python con representación en el browser, frecuentemente como un controlador, pj: un slider, una caja de text, etc.\n",
    "* Pueden utilizarse para generar GUI interactivas para tus notebooks\n",
    "* Pueden utilizarse para sincronizar información entre Python y Javascript\n",
    "\n",
    "![Widgets](widgets.png)\n",
    "\n",
    "* Ejemplos:\n",
    "  * https://mybinder.org/v2/gh/binder-examples/jupyter-extension/master?filepath=index.ipynb\n",
    "  * https://ipywidgets.readthedocs.io/en/latest/examples/Widget%20Basics.html#"
   ]
  },
  {
   "cell_type": "markdown",
   "metadata": {
    "slideshow": {
     "slide_type": "subslide"
    }
   },
   "source": [
    "### JupyterHub"
   ]
  },
  {
   "cell_type": "markdown",
   "metadata": {},
   "source": [
    "* JupyterHub es un conjunto de herramientas que poveen single user Jupyter Notebook servers para cada persona dentro de un grupo."
   ]
  },
  {
   "cell_type": "markdown",
   "metadata": {},
   "source": [
    "### JupyterHub (Componentes)"
   ]
  },
  {
   "cell_type": "markdown",
   "metadata": {},
   "source": [
    "* Hub (Python/Tornado): maneja cuentas de usuarios, autenticación, y coordina los single user Notebook Servers a través de un Spawner\n",
    "* Proxy: la parte pública (expuesta al usuario) de JupyterHub, que utiliza un proxy dinámico para rutear HTTP request al Hub y a los single user Notebook Servers. \n",
    "* Single-User Notebook Server (Python/Tornado):  single-user Jupyter Notebook server que crea para cada usuario cuando el usuario se logea y es lanzado por el Spawner."
   ]
  },
  {
   "cell_type": "markdown",
   "metadata": {},
   "source": [
    "![JupyterHub](jhub.png)"
   ]
  },
  {
   "cell_type": "markdown",
   "metadata": {
    "slideshow": {
     "slide_type": "subslide"
    }
   },
   "source": [
    "### Binder"
   ]
  },
  {
   "cell_type": "markdown",
   "metadata": {},
   "source": [
    "* Permite crear ambientes computacionales personalizados que puede ser compartidos y usados por otros usuarios remotos.\n",
    "* Usando repo2docker genera una imágen Docker a partir de un repositorio de Github, la cual contienen todos los componentes específicados junto a los notebooks de interés.\n",
    "* Utiliza JupyterHub para proveer la interfase the usuario y conectar la imágen Docker previamente generada a un ambiente computacional en la nube\n",
    "* Utiliza BinderHub como puente para conectar repo2docker y JupyterHub y, finalmente, crear al experiencia Binder.\n",
    "* Ejemplo:\n",
    "  * http://mybinder.org/v2/gh/binder-examples/conda_environment/v1.0?filepath=index.ipynb\n",
    "  * https://github.com/binder-examples/conda"
   ]
  },
  {
   "cell_type": "markdown",
   "metadata": {
    "slideshow": {
     "slide_type": "subslide"
    }
   },
   "source": [
    "### Jupyter Lab"
   ]
  },
  {
   "cell_type": "markdown",
   "metadata": {},
   "source": [
    "* El futuro!!!\n",
    "* Una experiencia quasi-IDE, pero en el browser y utilizando la múltiples tecnologías del ecosistema\n",
    "* Repo: https://github.com/jupyterlab/jupyterlab\n",
    "* Docs: http://jupyterlab-tutorial.readthedocs.io/en/latest/"
   ]
  },
  {
   "cell_type": "markdown",
   "metadata": {
    "slideshow": {
     "slide_type": "subslide"
    }
   },
   "source": [
    "### Plus"
   ]
  },
  {
   "cell_type": "markdown",
   "metadata": {},
   "source": [
    "* Dentro y fuera (comunidad) de los repositorios oficiales\n",
    "    * RISE\n",
    "      * https://github.com/damianavila/RISE\n",
    "      * http://mybinder.org/v2/gh/binder-examples/jupyter-rise/master?filepath=index.ipynb\n",
    "    * nbdime\n",
    "    * nbgrader\n",
    "    * Otros"
   ]
  },
  {
   "cell_type": "markdown",
   "metadata": {
    "slideshow": {
     "slide_type": "slide"
    }
   },
   "source": [
    "# El ecosistema de Anaconda"
   ]
  },
  {
   "cell_type": "markdown",
   "metadata": {},
   "source": [
    "![Anaconda](anaconda.png)"
   ]
  },
  {
   "cell_type": "markdown",
   "metadata": {
    "slideshow": {
     "slide_type": "subslide"
    }
   },
   "source": [
    "## Conda"
   ]
  },
  {
   "cell_type": "markdown",
   "metadata": {},
   "source": [
    " Package, dependency and environment management for any language—Python, R, Ruby, Lua, Scala, Java, JavaScript, C/ C++, FORTRAN\n",
    "\n",
    "* Manejador de paquetes y dependencias\n",
    "* Sistema manejador de entornos virtuales\n",
    "* Multiplataforma: win, macOS, Linux\n",
    "* Multilenguaje: Python, R, Ruby, Lua, Scala, Java, JavaScript, C/ C++, FORTRAN\n",
    "* En su configuración por defecto se conecta a repo.continuum.io (+1000 paquetes), pero tb puede traer paquetes de otras fuentes (conda-forge)\n",
    "* Código abierto"
   ]
  },
  {
   "cell_type": "markdown",
   "metadata": {
    "slideshow": {
     "slide_type": "subslide"
    }
   },
   "source": [
    "## Anaconda Distribution"
   ]
  },
  {
   "cell_type": "markdown",
   "metadata": {},
   "source": [
    "![Distribution](distribution.png)"
   ]
  },
  {
   "cell_type": "markdown",
   "metadata": {
    "slideshow": {
     "slide_type": "subslide"
    }
   },
   "source": [
    "## Anaconda Enterprise"
   ]
  },
  {
   "cell_type": "markdown",
   "metadata": {},
   "source": [
    "![Enterprise](enterprise.png)"
   ]
  },
  {
   "cell_type": "markdown",
   "metadata": {
    "slideshow": {
     "slide_type": "subslide"
    }
   },
   "source": [
    "## Plus"
   ]
  },
  {
   "cell_type": "markdown",
   "metadata": {},
   "source": [
    "* Soporte\n",
    "* Asesoramiento\n",
    "* Entrenamiento"
   ]
  },
  {
   "cell_type": "markdown",
   "metadata": {
    "slideshow": {
     "slide_type": "slide"
    }
   },
   "source": [
    "# Integración de los ecosistemas"
   ]
  },
  {
   "cell_type": "markdown",
   "metadata": {
    "slideshow": {
     "slide_type": "subslide"
    }
   },
   "source": [
    "## Anaconda Distribution"
   ]
  },
  {
   "cell_type": "markdown",
   "metadata": {},
   "source": [
    "![Distribution](distribution.png)"
   ]
  },
  {
   "cell_type": "markdown",
   "metadata": {
    "slideshow": {
     "slide_type": "subslide"
    }
   },
   "source": [
    "## Anaconda Enterprise"
   ]
  },
  {
   "cell_type": "markdown",
   "metadata": {},
   "source": [
    "![Enterprise](enterprise.png)"
   ]
  },
  {
   "cell_type": "markdown",
   "metadata": {
    "slideshow": {
     "slide_type": "subslide"
    }
   },
   "source": [
    "## nb_conda_kernels"
   ]
  },
  {
   "cell_type": "markdown",
   "metadata": {},
   "source": [
    "![nbck1](nb-ext-kernel1.png)"
   ]
  },
  {
   "cell_type": "markdown",
   "metadata": {},
   "source": [
    "![nbck2](nb-ext-kernel2.png)"
   ]
  },
  {
   "cell_type": "markdown",
   "metadata": {
    "slideshow": {
     "slide_type": "subslide"
    }
   },
   "source": [
    "## nb_conda"
   ]
  },
  {
   "cell_type": "markdown",
   "metadata": {},
   "source": [
    "![nbc1](nb-ext-conda1.png)"
   ]
  },
  {
   "cell_type": "markdown",
   "metadata": {},
   "source": [
    "![nbc2](nb-ext-conda3.png)"
   ]
  },
  {
   "cell_type": "markdown",
   "metadata": {
    "slideshow": {
     "slide_type": "subslide"
    }
   },
   "source": [
    "## Anaconda Cloud"
   ]
  },
  {
   "cell_type": "markdown",
   "metadata": {},
   "source": [
    "![cloud](cloug.png)"
   ]
  },
  {
   "cell_type": "markdown",
   "metadata": {
    "slideshow": {
     "slide_type": "subslide"
    }
   },
   "source": [
    "## nb_anacondacloud"
   ]
  },
  {
   "cell_type": "markdown",
   "metadata": {},
   "source": [
    "![nbac](nb-ext-acloud1.png)"
   ]
  },
  {
   "cell_type": "markdown",
   "metadata": {},
   "source": [
    "![nbac](nb-ext-acloud4.png)"
   ]
  },
  {
   "cell_type": "markdown",
   "metadata": {
    "slideshow": {
     "slide_type": "slide"
    }
   },
   "source": [
    "# Contacto"
   ]
  },
  {
   "cell_type": "markdown",
   "metadata": {},
   "source": [
    "* Blog: http://www.damian.oquanta.info/"
   ]
  },
  {
   "cell_type": "markdown",
   "metadata": {},
   "source": [
    "* Twitter: [@damian_avila](https://twitter.com/damian_avila)"
   ]
  },
  {
   "cell_type": "markdown",
   "metadata": {},
   "source": [
    "* GitHub: https://github.com/damianavila"
   ]
  }
 ],
 "metadata": {
  "kernelspec": {
   "display_name": "Python 3",
   "language": "python",
   "name": "python3"
  },
  "language_info": {
   "codemirror_mode": {
    "name": "ipython",
    "version": 3
   },
   "file_extension": ".py",
   "mimetype": "text/x-python",
   "name": "python",
   "nbconvert_exporter": "python",
   "pygments_lexer": "ipython3",
   "version": "3.5.3"
  }
 },
 "nbformat": 4,
 "nbformat_minor": 2
}
