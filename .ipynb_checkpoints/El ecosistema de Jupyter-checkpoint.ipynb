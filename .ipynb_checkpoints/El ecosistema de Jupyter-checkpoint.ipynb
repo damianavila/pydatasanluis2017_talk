{
 "cells": [
  {
   "cell_type": "markdown",
   "metadata": {
    "slideshow": {
     "slide_type": "slide"
    }
   },
   "source": [
    "# El ecosistema de Jupyter"
   ]
  },
  {
   "cell_type": "markdown",
   "metadata": {
    "slideshow": {
     "slide_type": "slide"
    }
   },
   "source": [
    "## Damián Avila"
   ]
  },
  {
   "cell_type": "markdown",
   "metadata": {},
   "source": [
    "* Blog: http://damianavila.github.io/blog/\n",
    "\n",
    "* Twitter: [@damian_avila](https://twitter.com/damian_avila)\n",
    "\n",
    "* GitHub: https://github.com/damianavila"
   ]
  },
  {
   "cell_type": "markdown",
   "metadata": {
    "slideshow": {
     "slide_type": "subslide"
    }
   },
   "source": [
    "## Damián Avila"
   ]
  },
  {
   "cell_type": "markdown",
   "metadata": {
    "slideshow": {
     "slide_type": "-"
    }
   },
   "source": [
    "* **Desarrollador** de Software y **Lider** de equipo\n",
    "\n",
    "* Actualmente en **Anaconda, Inc.**\n",
    "\n",
    "* Actualmente en **University of Michigan**"
   ]
  },
  {
   "cell_type": "markdown",
   "metadata": {
    "slideshow": {
     "slide_type": "slide"
    }
   },
   "source": [
    "## Damián Avila"
   ]
  },
  {
   "cell_type": "markdown",
   "metadata": {
    "slideshow": {
     "slide_type": "-"
    }
   },
   "source": [
    "* Desarrollador *core* de **Jupyter**\n",
    "\n",
    "* Miembro del **Jupyter Steering Council**"
   ]
  },
  {
   "cell_type": "markdown",
   "metadata": {
    "slideshow": {
     "slide_type": "subslide"
    }
   },
   "source": [
    "## Damián Avila"
   ]
  },
  {
   "cell_type": "markdown",
   "metadata": {
    "slideshow": {
     "slide_type": "fragment"
    }
   },
   "source": [
    "* Quant, Bioestadístico, y (en otra vida ;-) Bioquímico."
   ]
  },
  {
   "cell_type": "markdown",
   "metadata": {
    "slideshow": {
     "slide_type": "fragment"
    }
   },
   "source": [
    "* Esencialmente... un tipo **curioso**"
   ]
  },
  {
   "cell_type": "markdown",
   "metadata": {
    "slideshow": {
     "slide_type": "fragment"
    }
   },
   "source": [
    "* Que le gusta **modelar** lo que le interesa..."
   ]
  },
  {
   "cell_type": "markdown",
   "metadata": {
    "slideshow": {
     "slide_type": "slide"
    }
   },
   "source": [
    "# El ecosistema de Jupyter"
   ]
  },
  {
   "cell_type": "markdown",
   "metadata": {
    "slideshow": {
     "slide_type": "subslide"
    }
   },
   "source": [
    "### El projecto Jupyter desarrolla software de código abierto, estándares abiertos (protocolos) y servicios para el promover la computación interactiva en múltiples lenguages de programación."
   ]
  },
  {
   "cell_type": "markdown",
   "metadata": {
    "slideshow": {
     "slide_type": "subslide"
    }
   },
   "source": [
    "## Quiénes?"
   ]
  },
  {
   "cell_type": "markdown",
   "metadata": {
    "slideshow": {
     "slide_type": "subslide"
    }
   },
   "source": [
    "<center><img src=\"team.jpg\" width=\"1200\" height=\"800\"/></center>"
   ]
  },
  {
   "cell_type": "markdown",
   "metadata": {
    "slideshow": {
     "slide_type": "subslide"
    }
   },
   "source": [
    "## Open Standards for Interactive Computing"
   ]
  },
  {
   "cell_type": "markdown",
   "metadata": {
    "slideshow": {
     "slide_type": "subslide"
    }
   },
   "source": [
    "### El documento \"notebook\" (archivo .ipynb)\n",
    "\n",
    "Los Jupyter Notebooks (archivos) son documentos abiertos basados en JSON. Contienen la información de la sesión del usuario así como código, texto, ecuaciones, videos y outputs complejos (HTML y JS)."
   ]
  },
  {
   "cell_type": "markdown",
   "metadata": {
    "slideshow": {
     "slide_type": "subslide"
    }
   },
   "source": [
    "### Protocolo de computación interactiva\n",
    "\n",
    "El Notebook (app) se comunica con los Kernels (quienes computan) usando un Protocolo de Computación Interactiva, un protocolo abierto basado en el envio de datos tipo JSON a través de canales ZMQ y Websockets."
   ]
  },
  {
   "cell_type": "markdown",
   "metadata": {
    "slideshow": {
     "slide_type": "subslide"
    }
   },
   "source": [
    "### Kernels\n",
    "\n",
    "Los Kernels son procesos que corren códido de manera interactiva en un lenguage the programación particular y retorna el resultado de la computación al usuario. Los Kernels también proveen complatado por tab y requerimientos de introspección."
   ]
  },
  {
   "cell_type": "markdown",
   "metadata": {
    "slideshow": {
     "slide_type": "subslide"
    }
   },
   "source": [
    "<center><img src=\"map.png\" width=\"1000\"/></center>"
   ]
  },
  {
   "cell_type": "markdown",
   "metadata": {
    "slideshow": {
     "slide_type": "slide"
    }
   },
   "source": [
    "### IPython"
   ]
  },
  {
   "cell_type": "markdown",
   "metadata": {
    "slideshow": {
     "slide_type": "subslide"
    }
   },
   "source": [
    "* Un poderoso intérprete interactivo para Python\n",
    "* Un jupyter kernel para trabajar con código Python en el Jupyter Notebook y otros frontends interactivos"
   ]
  },
  {
   "cell_type": "markdown",
   "metadata": {
    "slideshow": {
     "slide_type": "subslide"
    }
   },
   "source": [
    "<center><img src=\"ipy_kernel_and_terminal.png\" width=\"600\" height=\"400\"/></center>"
   ]
  },
  {
   "cell_type": "markdown",
   "metadata": {
    "slideshow": {
     "slide_type": "slide"
    }
   },
   "source": [
    "### IPython (Características)"
   ]
  },
  {
   "cell_type": "markdown",
   "metadata": {
    "slideshow": {
     "slide_type": "subslide"
    }
   },
   "source": [
    "* Instropección de objetos\n",
    "* Historial de inputs\n",
    "* Guardado de los outputs automaticamente referenciados\n",
    "* Complesión (extensible) por tabs\n",
    "* Comandos magics\n",
    "* Configurable"
   ]
  },
  {
   "cell_type": "markdown",
   "metadata": {
    "slideshow": {
     "slide_type": "subslide"
    }
   },
   "source": [
    "* Logging de sesiones\n",
    "* Acceso al sistema con (extensible) aliases\n",
    "* Facilidad para integración con otros programas y GUIs\n",
    "* Acceso integrado al debugger pdb y profiler\n",
    "* Multi-line editing gracias prompt_toolkit.\n",
    "* Highlighting de sintáxis (a medida que tipeás)\n",
    "* Integración con editor the linea de comando"
   ]
  },
  {
   "cell_type": "markdown",
   "metadata": {
    "slideshow": {
     "slide_type": "slide"
    }
   },
   "source": [
    "### Jupyter Notebook"
   ]
  },
  {
   "cell_type": "markdown",
   "metadata": {
    "slideshow": {
     "slide_type": "subslide"
    }
   },
   "source": [
    "* Es un ambiente de computación interactivo que le permite al usuario escribir documentos (notebooks) que pueden incluir código, widgets interactivos, figuras, texto, ecuaciones, imágenes, video, etc."
   ]
  },
  {
   "cell_type": "markdown",
   "metadata": {
    "slideshow": {
     "slide_type": "subslide"
    }
   },
   "source": [
    "<center><img src=\"notebook_components.png\" width=\"800\" height=\"600\" align=\"middle\"/></center>"
   ]
  },
  {
   "cell_type": "markdown",
   "metadata": {
    "slideshow": {
     "slide_type": "slide"
    }
   },
   "source": [
    "### Jupyter Notebook (Componentes)"
   ]
  },
  {
   "cell_type": "markdown",
   "metadata": {
    "slideshow": {
     "slide_type": "subslide"
    }
   },
   "source": [
    "* Notebook app, la aplicación web interactiva que provee la UI para escribir y correr código interactivamente generando documentos autocontenidos (notebooks)\n",
    "* Kernels, procesos independientes levantados por la app Notebook que corre el código provisto por el usuario y retorna (y muestra) los resultados (en forma de output a traves de la Notebook app)\n",
    "* Documentos, artefactos autocontenidos que contienen una representación de todo el contenido visible en la Notebook app"
   ]
  },
  {
   "cell_type": "markdown",
   "metadata": {
    "slideshow": {
     "slide_type": "slide"
    }
   },
   "source": [
    "### nbconvert"
   ]
  },
  {
   "cell_type": "markdown",
   "metadata": {
    "slideshow": {
     "slide_type": "subslide"
    }
   },
   "source": [
    "* Convierte el documento (archivo) .ipynb en otros formatos estáticos: HTML (incluyendo slides HTML basadas en Reveal.js), Latex, PDF, Markdown, ReST, entre otros. \n",
    "* Flexibilidad para compartir infomación en múltiples y diferentes formatos.\n",
    "* Permite la presentación, publicación, colaboración y compartición de contenido"
   ]
  },
  {
   "cell_type": "markdown",
   "metadata": {
    "slideshow": {
     "slide_type": "subslide"
    }
   },
   "source": [
    "* Puede ser utilizado como una librería (import nbconvert) para adicionar funcionalidades de conversión de notebook en tu propia app\n",
    "  * http://damianavila.github.io/blog/ powered by [Nikola](https://getnikola.com/)"
   ]
  },
  {
   "cell_type": "markdown",
   "metadata": {
    "slideshow": {
     "slide_type": "slide"
    }
   },
   "source": [
    "### nbviewer"
   ]
  },
  {
   "cell_type": "markdown",
   "metadata": {
    "slideshow": {
     "slide_type": "subslide"
    }
   },
   "source": [
    "* Una manera simple de compartir tu Jupyter notebooks con el mundo\n",
    "* Es nbconvert con esteroides, pero centrado en la conversión HTML (incluyendo slides)\n",
    "* Sitio: http://nbviewer.jupyter.org/"
   ]
  },
  {
   "cell_type": "markdown",
   "metadata": {
    "slideshow": {
     "slide_type": "slide"
    }
   },
   "source": [
    "### Jupyter Widgets"
   ]
  },
  {
   "cell_type": "markdown",
   "metadata": {
    "slideshow": {
     "slide_type": "subslide"
    }
   },
   "source": [
    "* Son objetos python con representación en el browser, frecuentemente como un controlador, pj: un slider, una caja de text, etc.\n",
    "* Pueden utilizarse para generar GUI interactivas para tus notebooks\n",
    "* Pueden utilizarse para sincronizar información entre Python y Javascript"
   ]
  },
  {
   "cell_type": "markdown",
   "metadata": {
    "slideshow": {
     "slide_type": "subslide"
    }
   },
   "source": [
    "<center><img src=\"widgets.png\" width=\"600\" height=\"400\" align=\"middle\"/></center>"
   ]
  },
  {
   "cell_type": "markdown",
   "metadata": {
    "slideshow": {
     "slide_type": "subslide"
    }
   },
   "source": [
    "* Ejemplos:\n",
    "  * https://mybinder.org/v2/gh/binder-examples/jupyter-extension/master?filepath=index.ipynb\n",
    "  * https://ipywidgets.readthedocs.io/en/latest/examples/Widget%20Basics.html#"
   ]
  },
  {
   "cell_type": "markdown",
   "metadata": {
    "slideshow": {
     "slide_type": "slide"
    }
   },
   "source": [
    "### JupyterHub"
   ]
  },
  {
   "cell_type": "markdown",
   "metadata": {
    "slideshow": {
     "slide_type": "subslide"
    }
   },
   "source": [
    "* JupyterHub es un conjunto de herramientas que poveen single user Jupyter Notebook servers para cada persona dentro de un grupo."
   ]
  },
  {
   "cell_type": "markdown",
   "metadata": {
    "slideshow": {
     "slide_type": "slide"
    }
   },
   "source": [
    "### JupyterHub (Componentes)"
   ]
  },
  {
   "cell_type": "markdown",
   "metadata": {
    "slideshow": {
     "slide_type": "subslide"
    }
   },
   "source": [
    "* Hub (Python/Tornado): maneja cuentas de usuarios, autenticación, y coordina los single user Notebook Servers a través de un Spawner\n",
    "* Proxy: la parte pública (expuesta al usuario) de JupyterHub, que utiliza un proxy dinámico para rutear HTTP request al Hub y a los single user Notebook Servers. \n",
    "* Single-User Notebook Server (Python/Tornado):  single-user Jupyter Notebook server que crea para cada usuario cuando el usuario se logea y es lanzado por el Spawner."
   ]
  },
  {
   "cell_type": "markdown",
   "metadata": {
    "slideshow": {
     "slide_type": "subslide"
    }
   },
   "source": [
    "<center><img src=\"jhub.png\" width=\"600\" height=\"400\" align=\"middle\"/></center>"
   ]
  },
  {
   "cell_type": "markdown",
   "metadata": {
    "slideshow": {
     "slide_type": "slide"
    }
   },
   "source": [
    "### Binder"
   ]
  },
  {
   "cell_type": "markdown",
   "metadata": {
    "slideshow": {
     "slide_type": "subslide"
    }
   },
   "source": [
    "* Permite crear ambientes computacionales personalizados que puede ser compartidos y usados por otros usuarios remotos.\n",
    "* Usando repo2docker genera una imágen Docker a partir de un repositorio de Github, la cual contienen todos los componentes específicados junto a los notebooks de interés."
   ]
  },
  {
   "cell_type": "markdown",
   "metadata": {
    "slideshow": {
     "slide_type": "subslide"
    }
   },
   "source": [
    "* Utiliza JupyterHub para proveer la interfase the usuario y conectar la imágen Docker previamente generada a un ambiente computacional en la nube\n",
    "* Utiliza BinderHub como puente para conectar repo2docker y JupyterHub y, finalmente, crear la experiencia \"Binder\".\n",
    "* Ejemplo:\n",
    "  * http://mybinder.org/v2/gh/binder-examples/conda_environment/v1.0?filepath=index.ipynb\n",
    "  * https://github.com/binder-examples/conda"
   ]
  },
  {
   "cell_type": "markdown",
   "metadata": {
    "slideshow": {
     "slide_type": "slide"
    }
   },
   "source": [
    "### Jupyter Lab"
   ]
  },
  {
   "cell_type": "markdown",
   "metadata": {
    "slideshow": {
     "slide_type": "subslide"
    }
   },
   "source": [
    "* El futuro!!!\n",
    "* Una experiencia quasi-IDE, pero en el browser y utilizando la múltiples tecnologías del ecosistema\n",
    "* Repo: https://github.com/jupyterlab/jupyterlab\n",
    "* Docs: http://jupyterlab-tutorial.readthedocs.io/en/latest/"
   ]
  },
  {
   "cell_type": "markdown",
   "metadata": {
    "slideshow": {
     "slide_type": "slide"
    }
   },
   "source": [
    "### Plus"
   ]
  },
  {
   "cell_type": "markdown",
   "metadata": {
    "slideshow": {
     "slide_type": "subslide"
    }
   },
   "source": [
    "* Dentro y fuera (comunidad) de los repositorios oficiales\n",
    "    * RISE\n",
    "      * https://github.com/damianavila/RISE\n",
    "      * http://mybinder.org/v2/gh/binder-examples/jupyter-rise/master?filepath=index.ipynb\n",
    "    * nbdime\n",
    "    * nbgrader\n",
    "    * Otros"
   ]
  },
  {
   "cell_type": "markdown",
   "metadata": {
    "slideshow": {
     "slide_type": "slide"
    }
   },
   "source": [
    "# Contacto"
   ]
  },
  {
   "cell_type": "markdown",
   "metadata": {},
   "source": [
    "* Blog: http://damianavila.github.io/blog/\n",
    "\n",
    "* Twitter: [@damian_avila](https://twitter.com/damian_avila)\n",
    "\n",
    "* GitHub: https://github.com/damianavila"
   ]
  }
 ],
 "metadata": {
  "celltoolbar": "Slideshow",
  "kernelspec": {
   "display_name": "Python 3",
   "language": "python",
   "name": "python3"
  },
  "language_info": {
   "codemirror_mode": {
    "name": "ipython",
    "version": 3
   },
   "file_extension": ".py",
   "mimetype": "text/x-python",
   "name": "python",
   "nbconvert_exporter": "python",
   "pygments_lexer": "ipython3",
   "version": "3.7.3"
  },
  "livereveal": {
   "autolaunch": true,
   "scroll": true
  }
 },
 "nbformat": 4,
 "nbformat_minor": 2
}
